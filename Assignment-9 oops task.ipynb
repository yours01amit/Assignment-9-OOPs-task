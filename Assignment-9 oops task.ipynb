{
 "cells": [
  {
   "cell_type": "markdown",
   "id": "0f6c6dcf",
   "metadata": {},
   "source": [
    "Q1, Create a vehicle class with an init method having instance variables as name_of_vehicle, max_speed\n",
    "and average_of_vehicle."
   ]
  },
  {
   "cell_type": "code",
   "execution_count": 2,
   "id": "a30abdb7",
   "metadata": {},
   "outputs": [],
   "source": [
    "class vehicle_class:\n",
    "    def __init__(self, name_of_vehicle, max_speed, average_of_vehicle):\n",
    "        self.name_of_vehicle = name_of_vehicle\n",
    "        self.max_speed = max_speed\n",
    "        self.average_of_vehicle = average_of_vehicle\n"
   ]
  },
  {
   "cell_type": "markdown",
   "id": "cea461e7",
   "metadata": {},
   "source": [
    "Q2. Create a child class car from the vehicle class created in Que 1, which will inherit the vehicle class.\n",
    "Create a method named seating_capacity which takes capacity as an argument and returns the name of\n",
    "the vehicle and its seating capacity."
   ]
  },
  {
   "cell_type": "code",
   "execution_count": 3,
   "id": "8449e4dc",
   "metadata": {
    "scrolled": false
   },
   "outputs": [
    {
     "data": {
      "text/plain": [
       "'The name of vehicle is BMW and seating capacity is 4'"
      ]
     },
     "execution_count": 3,
     "metadata": {},
     "output_type": "execute_result"
    }
   ],
   "source": [
    "class car_class(vehicle_class):\n",
    "    def seating_capacity(self, capacity):\n",
    "        self.capacity = capacity\n",
    "        return f\"The name of vehicle is {self.name_of_vehicle} and seating capacity is {self.capacity}\"\n",
    "    \n",
    "obj = car_class(\"BMW\", 150, 10)\n",
    "obj.seating_capacity(4)\n",
    "        "
   ]
  },
  {
   "cell_type": "markdown",
   "id": "70a2b9d3",
   "metadata": {},
   "source": [
    "Q3. What is multiple inheritance? Write a python code to demonstrate multiple inheritance."
   ]
  },
  {
   "cell_type": "code",
   "execution_count": 11,
   "id": "75289736",
   "metadata": {},
   "outputs": [
    {
     "data": {
      "text/plain": [
       "'This is my sec class'"
      ]
     },
     "execution_count": 11,
     "metadata": {},
     "output_type": "execute_result"
    }
   ],
   "source": [
    "'''Multiple inheritance is a feature in object oriented programming (OOPs) that allows a class to \n",
    "to inherit from more than one present class, thereby inheriting properties and methods from each of \n",
    "the parent classes. in other words, a child class can have multiple parent classes, and it can inherit\n",
    "features from all of them'''\n",
    "\n",
    "\n",
    "class class1:\n",
    "    def my_first_class(self):\n",
    "        return \"This is my first class\"\n",
    "    \n",
    "class class2:\n",
    "    def my_sec_class(self):\n",
    "        return \"This is my sec class\"\n",
    "    \n",
    "class class3(class1, class2):\n",
    "    pass\n",
    "\n",
    "obj_class = class3()\n",
    "obj_class.my_first_class()\n",
    "obj_class.my_sec_class()"
   ]
  },
  {
   "cell_type": "markdown",
   "id": "bf4a8adc",
   "metadata": {},
   "source": [
    "Q4. What are getter and setter in python? Create a class and create a getter and a setter method in this\n",
    "class."
   ]
  },
  {
   "cell_type": "markdown",
   "id": "75842237",
   "metadata": {},
   "source": [
    "Ans: Getter in python are methods that are used to access the values of an object's properties. they are used to return the value of a specific property and are typically defined using the @property decorators.\n",
    "\n",
    "Setter,it is important to note that the getters do not take any parameters and we cannot set the value through getter methed . for that we need setter method which can be added by decorating method with @property-name.setter"
   ]
  },
  {
   "cell_type": "code",
   "execution_count": 19,
   "id": "601e36bf",
   "metadata": {},
   "outputs": [
    {
     "data": {
      "text/plain": [
       "20"
      ]
     },
     "execution_count": 19,
     "metadata": {},
     "output_type": "execute_result"
    }
   ],
   "source": [
    "class myclass:\n",
    "    def __init__(self, value):\n",
    "        self._value = value\n",
    "        \n",
    "    @property\n",
    "    def value(self):\n",
    "        return self._value\n",
    "    \n",
    "    @value.setter\n",
    "    def value(self, new_value):\n",
    "        self._value = new_value\n",
    "        \n",
    "obj = myclass(10)\n",
    "obj.value = 20\n",
    "obj.value"
   ]
  },
  {
   "cell_type": "markdown",
   "id": "461e1dc1",
   "metadata": {},
   "source": [
    "Q5.What is method overriding in python? Write a python code to demonstrate method overriding."
   ]
  },
  {
   "cell_type": "markdown",
   "id": "5e73f769",
   "metadata": {},
   "source": [
    "Ans: Method overriding is a concept in object-oriented programming where a subclass provides a \n",
    "    new implementation for a method that is already defined in its superclass. When a method is overridden, the subclass provides its own implementation of the method that replaces the implementation in the superclass.\n",
    "To override a method, the subclass must provide a method with the same signature (method name and parameters) as the one in the superclass. The method in the subclass must also have the same or a more permissive access modifier (public, protected or private) than the one in the superclass."
   ]
  },
  {
   "cell_type": "code",
   "execution_count": 24,
   "id": "7e7cd134",
   "metadata": {},
   "outputs": [
    {
     "name": "stdout",
     "output_type": "stream",
     "text": [
      "This is my child class method\n"
     ]
    }
   ],
   "source": [
    "class A: \n",
    "    def Disp(self):\n",
    "        print(\"this is my parant class method\")\n",
    "        \n",
    "\n",
    "class B(A):\n",
    "    def Disp(self):\n",
    "        print(\"This is my child class method\")\n",
    "        \n",
    "        \n",
    "obj = B()\n",
    "obj.Disp()"
   ]
  },
  {
   "cell_type": "code",
   "execution_count": null,
   "id": "90283a31",
   "metadata": {},
   "outputs": [],
   "source": []
  }
 ],
 "metadata": {
  "kernelspec": {
   "display_name": "Python 3 (ipykernel)",
   "language": "python",
   "name": "python3"
  },
  "language_info": {
   "codemirror_mode": {
    "name": "ipython",
    "version": 3
   },
   "file_extension": ".py",
   "mimetype": "text/x-python",
   "name": "python",
   "nbconvert_exporter": "python",
   "pygments_lexer": "ipython3",
   "version": "3.11.0"
  }
 },
 "nbformat": 4,
 "nbformat_minor": 5
}
